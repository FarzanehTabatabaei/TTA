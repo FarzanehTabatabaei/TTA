{
 "metadata": {
  "language_info": {
   "codemirror_mode": {
    "name": "ipython",
    "version": 3
   },
   "file_extension": ".py",
   "mimetype": "text/x-python",
   "name": "python",
   "nbconvert_exporter": "python",
   "pygments_lexer": "ipython3",
   "version": "3.9.5"
  },
  "orig_nbformat": 2,
  "kernelspec": {
   "name": "python395jvsc74a57bd0810fde74ef6b50443c3dfaf65a6a9b80cbafee63aaed0c2811918cd59cecaf49",
   "display_name": "Python 3.9.5 64-bit"
  },
  "metadata": {
   "interpreter": {
    "hash": "810fde74ef6b50443c3dfaf65a6a9b80cbafee63aaed0c2811918cd59cecaf49"
   }
  }
 },
 "nbformat": 4,
 "nbformat_minor": 2,
 "cells": [
  {
   "source": [
    "# Task 1"
   ],
   "cell_type": "markdown",
   "metadata": {}
  },
  {
   "cell_type": "code",
   "execution_count": 13,
   "metadata": {},
   "outputs": [
    {
     "output_type": "stream",
     "name": "stdout",
     "text": [
      "Sorry Farzaneh. Your guess wasn't true. The number that you guessed was 4 but the true number is 6.\n"
     ]
    }
   ],
   "source": [
    "import random\n",
    "\n",
    "randome_number = random.randint(1, 10)\n",
    "user_name = input(\"Please enter your name:\")\n",
    "number = int(input(\"Please guess a number between 1 to 10 and enter it:\"))\n",
    "\n",
    "if number == randome_number:\n",
    "    print(\"Well done \" + user_name + \"! You guess the true number.\")\n",
    "else:\n",
    "    print(\"Sorry \" + user_name + \". Your guess wasn't true. The number that you guessed was \" + str(number) + \" but the true number is \" + str(randome_number) + \".\" )"
   ]
  },
  {
   "source": [
    "# Task 2"
   ],
   "cell_type": "markdown",
   "metadata": {}
  },
  {
   "cell_type": "code",
   "execution_count": 14,
   "metadata": {},
   "outputs": [
    {
     "output_type": "stream",
     "name": "stdout",
     "text": [
      "Why did the student eat his homework?\nBecause his teacher told him it was a piece of cake!\n"
     ]
    }
   ],
   "source": [
    "joke_1 = \"What did the calculator say to the other calculator?\\nYou can always count on me!\"\n",
    "joke_2 = \"Why did the student eat his homework?\\nBecause his teacher told him it was a piece of cake!\"\n",
    "joke_3 = \"Teacher: What is the shortest month?\\nStudent: May, it only has three letters!\"\n",
    "user_input = int(input(\"Please enter a number between 1 and 100.\"))\n",
    "\n",
    "if 1 <= user_input < 34:\n",
    "    print(joke_1)\n",
    "elif 34 <= user_input < 66:\n",
    "    print(joke_2)\n",
    "elif 66 <= user_input <= 100:\n",
    "    print(joke_3)\n",
    "else:\n",
    "    print(\"It is not a valid input!\")  #If the user enter a number out of the range of 1 and 100, the code will show this message."
   ]
  },
  {
   "source": [
    "# Task 3"
   ],
   "cell_type": "markdown",
   "metadata": {}
  },
  {
   "cell_type": "code",
   "execution_count": 17,
   "metadata": {},
   "outputs": [
    {
     "output_type": "stream",
     "name": "stdout",
     "text": [
      "Wellcome\n",
      "Your favourite meal is pizza with a glass of fanta, a/an soup and a/an apple pie .\n"
     ]
    }
   ],
   "source": [
    "print(\"Wellcome\")\n",
    "starter = input(\"Please enter your favourite starter\")\n",
    "course = input(\"Please enter your main course\")\n",
    "dessert = input(\"Please enter your main dessert\")\n",
    "drink = input (\"Please enter your favourite drink\")\n",
    "\n",
    "print(\"Your favourite meal is\", course, \"with a glass of\", drink + \", a/an\", starter, \"and a/an\", dessert, \".\")"
   ]
  },
  {
   "source": [
    "# Task 4"
   ],
   "cell_type": "markdown",
   "metadata": {}
  },
  {
   "cell_type": "code",
   "execution_count": 22,
   "metadata": {},
   "outputs": [
    {
     "output_type": "stream",
     "name": "stdout",
     "text": [
      "The motor bike cost is 2000 in the year 1\nThe motor bike cost is 1800.0 in the year 2\nThe motor bike cost is 1620.0 in the year 3\nThe motor bike cost is 1458.0 in the year 4\nThe motor bike cost is 1312.2 in the year 5\nThe motor bike cost is 1180.98 in the year 6\nThe motor bike cost is 1062.882 in the year 7\n"
     ]
    }
   ],
   "source": [
    "motorbike_costs = 2000\n",
    "counter = 1\n",
    "\n",
    "while motorbike_costs >= 1000:\n",
    "    print(\"The motor bike cost is\", motorbike_costs, \"in the year\", counter)\n",
    "    counter += 1\n",
    "    motorbike_costs -= motorbike_costs * 0.1"
   ]
  },
  {
   "source": [
    "# Task 5"
   ],
   "cell_type": "markdown",
   "metadata": {}
  },
  {
   "cell_type": "code",
   "execution_count": 21,
   "metadata": {},
   "outputs": [
    {
     "output_type": "stream",
     "name": "stdout",
     "text": [
      "The first numer is 2 and the second number is 3 . Please enter one of the below operator numbers:\n",
      "1) + (Addition)\n",
      "2) - (Subtraction)\n",
      "3) / (Division)\n",
      "4) * (Multiplication)\n",
      "5) ** (Exponentiation)\n",
      "6) Square\n",
      "You select exponentiation\n",
      "The answer is: 8\n"
     ]
    }
   ],
   "source": [
    "num1= int(input(\"Please enter the first number.\"))\n",
    "num2= int(input(\"Please enter the second number.\"))\n",
    "\n",
    "print(\"The first numer is\", str(num1), \"and the second number is\", str(num2), \". Please enter one of the below operator numbers:\")\n",
    "print(\"1) + (Addition)\\n2) - (Subtraction)\\n3) / (Division)\\n4) * (Multiplication)\\n5) ** (Exponentiation)\\n6) Square\")\n",
    "operator = int(input(\"Please enter one of the below operator numbers:\"))\n",
    "if operator == 1:\n",
    "    print(\"You select addition\")\n",
    "    ans = num1 + num2\n",
    "    print(\"The answer is:\", ans)\n",
    "elif operator == 2:\n",
    "    print(\"You select subtraction\")\n",
    "    ans = num1 - num2\n",
    "    print(\"The answer is:\", ans)\n",
    "elif operator == 3:\n",
    "    print(\"You select division\")\n",
    "    if num2 == 0:\n",
    "        num2 = int(input(\"It is not a valid number, please enter another number which is not equal tp zero\"))\n",
    "    ans = num1 / num2\n",
    "    print(\"The answer is:\", ans)\n",
    "elif operator == 4:\n",
    "    print(\"You select multiplication\")\n",
    "    ans = num1 * num2\n",
    "    print(\"The answer is:\", ans)\n",
    "elif operator == 5:\n",
    "    print(\"You select exponentiation\")\n",
    "    ans = num1 ** num2\n",
    "    print(\"The answer is:\", ans)\n",
    "elif operator == 6:\n",
    "    print(\"You select square\")\n",
    "    ans1 = num1 * num1\n",
    "    ans2 = num2 * num2\n",
    "    print(\"The square of the first number is\", ans1 , \"and the square of the second number is\", ans2)\n",
    "else:\n",
    "    print(\"It is not a valid number\")"
   ]
  },
  {
   "cell_type": "code",
   "execution_count": null,
   "metadata": {},
   "outputs": [],
   "source": []
  }
 ]
}