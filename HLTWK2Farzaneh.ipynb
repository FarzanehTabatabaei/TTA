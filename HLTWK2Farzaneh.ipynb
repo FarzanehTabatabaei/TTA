{
 "metadata": {
  "language_info": {
   "codemirror_mode": {
    "name": "ipython",
    "version": 3
   },
   "file_extension": ".py",
   "mimetype": "text/x-python",
   "name": "python",
   "nbconvert_exporter": "python",
   "pygments_lexer": "ipython3",
   "version": "3.9.5"
  },
  "orig_nbformat": 2,
  "kernelspec": {
   "name": "python395jvsc74a57bd0810fde74ef6b50443c3dfaf65a6a9b80cbafee63aaed0c2811918cd59cecaf49",
   "display_name": "Python 3.9.5 64-bit"
  },
  "metadata": {
   "interpreter": {
    "hash": "810fde74ef6b50443c3dfaf65a6a9b80cbafee63aaed0c2811918cd59cecaf49"
   }
  }
 },
 "nbformat": 4,
 "nbformat_minor": 2,
 "cells": [
  {
   "source": [
    "# Task 1"
   ],
   "cell_type": "markdown",
   "metadata": {}
  },
  {
   "cell_type": "code",
   "execution_count": 11,
   "metadata": {},
   "outputs": [
    {
     "output_type": "stream",
     "name": "stdout",
     "text": [
      "1\n3\n5\n9\n15\n45\n"
     ]
    }
   ],
   "source": [
    "# Python programme for finding and printing the factores of a number\n",
    "num = int(input(\"Please enter a number:\"))\n",
    "\n",
    "for i in range(1, num + 1):\n",
    "    if num % i == 0:\n",
    "        print(i)"
   ]
  },
  {
   "source": [
    "# Task2"
   ],
   "cell_type": "markdown",
   "metadata": {}
  },
  {
   "cell_type": "code",
   "execution_count": 12,
   "metadata": {},
   "outputs": [],
   "source": [
    "def motorbike_price(inp_price, inp_counter):\n",
    "    inp_price -= inp_price * 0.1\n",
    "    inp_counter += 1\n",
    "    return inp_price, inp_counter"
   ]
  },
  {
   "cell_type": "code",
   "execution_count": 14,
   "metadata": {},
   "outputs": [
    {
     "output_type": "stream",
     "name": "stdout",
     "text": [
      "The motor bike cost is 2000 in the year 1\nThe motor bike cost is 1800.0 in the year 2\nThe motor bike cost is 1620.0 in the year 3\nThe motor bike cost is 1458.0 in the year 4\nThe motor bike cost is 1312.2 in the year 5\nThe motor bike cost is 1180.98 in the year 6\nThe motor bike cost is 1062.882 in the year 7\n"
     ]
    }
   ],
   "source": [
    "motorbike_costs = 2000\n",
    "counter = 1\n",
    "\n",
    "while motorbike_costs >= 1000:\n",
    "    print(\"The motor bike cost is\", motorbike_costs, \"in the year\", counter)\n",
    "    motorbike_costs, counter = motorbike_price(motorbike_costs, counter)"
   ]
  },
  {
   "source": [
    "# Task3"
   ],
   "cell_type": "markdown",
   "metadata": {}
  },
  {
   "cell_type": "code",
   "execution_count": null,
   "metadata": {},
   "outputs": [],
   "source": [
    "def operation(inp_operator, inp_num1, inp_num2):\n",
    "    if inp_operator == 1:\n",
    "        print(\"You select addition\")\n",
    "        ans = inp_num1 + inp_num2\n",
    "        print(\"The answer is:\", ans)\n",
    "    elif inp_operator == 2:\n",
    "        print(\"You select subtraction\")\n",
    "        ans = inp_num1 - inp_num2\n",
    "        print(\"The answer is:\", ans)\n",
    "    elif inp_operator == 3:\n",
    "        print(\"You select division\")\n",
    "        if inp_num2 == 0:\n",
    "            inp_num2 = int(input(\"It is not a valid number, please enter another number which is not equal tp zero\"))\n",
    "        ans = inp_num1 / inp_num2\n",
    "        print(\"The answer is:\", ans)\n",
    "    elif inp_operator == 4:\n",
    "        print(\"You select multiplication\")\n",
    "        ans = inp_num1 * inp_num2\n",
    "        print(\"The answer is:\", ans)\n",
    "    elif inp_operator == 5:\n",
    "        print(\"You select exponentiation\")\n",
    "        ans = inp_num1 ** inp_num2\n",
    "        print(\"The answer is:\", ans)\n",
    "    elif inp_operator == 6:\n",
    "        print(\"You select square\")\n",
    "        ans1 = inp_num1 * inp_num1\n",
    "        ans2 = inp_num2 * inp_inp_num2\n",
    "        print(\"The square of the first number is\", ans1 , \"and the square of the second number is\", ans2)\n",
    "    else:\n",
    "        print(\"It is not a valid number\")"
   ]
  },
  {
   "cell_type": "code",
   "execution_count": 15,
   "metadata": {},
   "outputs": [
    {
     "output_type": "stream",
     "name": "stdout",
     "text": [
      "The first numer is 3 and the second number is 6 . Please enter one of the below operator numbers:\n",
      "1) + (Addition)\n",
      "2) - (Subtraction)\n",
      "3) / (Division)\n",
      "4) * (Multiplication)\n",
      "5) ** (Exponentiation)\n",
      "6) Square\n",
      "You select division\n",
      "The answer is: 0.5\n"
     ]
    }
   ],
   "source": [
    "num1= int(input(\"Please enter the first number.\"))\n",
    "num2= int(input(\"Please enter the second number.\"))\n",
    "\n",
    "print(\"The first numer is\", str(num1), \"and the second number is\", str(num2), \". Please enter one of the below operator numbers:\")\n",
    "print(\"1) + (Addition)\\n2) - (Subtraction)\\n3) / (Division)\\n4) * (Multiplication)\\n5) ** (Exponentiation)\\n6) Square\")\n",
    "operator = int(input(\"Please enter one of the below operator numbers:\"))\n",
    "operation(operator, num1, num2)"
   ]
  },
  {
   "cell_type": "code",
   "execution_count": null,
   "metadata": {},
   "outputs": [],
   "source": []
  }
 ]
}