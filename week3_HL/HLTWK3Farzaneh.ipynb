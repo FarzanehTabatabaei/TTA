{
 "metadata": {
  "language_info": {
   "codemirror_mode": {
    "name": "ipython",
    "version": 3
   },
   "file_extension": ".py",
   "mimetype": "text/x-python",
   "name": "python",
   "nbconvert_exporter": "python",
   "pygments_lexer": "ipython3",
   "version": "3.9.5"
  },
  "orig_nbformat": 2,
  "kernelspec": {
   "name": "python395jvsc74a57bd0810fde74ef6b50443c3dfaf65a6a9b80cbafee63aaed0c2811918cd59cecaf49",
   "display_name": "Python 3.9.5 64-bit"
  },
  "metadata": {
   "interpreter": {
    "hash": "810fde74ef6b50443c3dfaf65a6a9b80cbafee63aaed0c2811918cd59cecaf49"
   }
  }
 },
 "nbformat": 4,
 "nbformat_minor": 2,
 "cells": [
  {
   "source": [
    "# Task 1"
   ],
   "cell_type": "markdown",
   "metadata": {}
  },
  {
   "cell_type": "code",
   "execution_count": 21,
   "metadata": {},
   "outputs": [],
   "source": [
    "my_file= open(\"my_new_text_file.txt\", \"w\")\n",
    "for i in range(4):\n",
    "    num = input(\"Please enter a number\")\n",
    "    my_file.write(num)\n",
    "    my_file.write(\"\\n\")\n",
    "\n",
    "my_file.close()"
   ]
  },
  {
   "cell_type": "code",
   "execution_count": 19,
   "metadata": {},
   "outputs": [
    {
     "output_type": "stream",
     "name": "stdout",
     "text": [
      "[3, 45, 83, 21]\n"
     ]
    }
   ],
   "source": [
    "my_list = []\n",
    "with open(\"my_new_text_file.txt\", \"r\") as my_file:\n",
    "    data = my_file.readlines()\n",
    "\n",
    "for i in data:\n",
    "    x = i.strip()\n",
    "    my_list.append(int(x))\n",
    "print(my_list)"
   ]
  },
  {
   "cell_type": "code",
   "execution_count": 20,
   "metadata": {},
   "outputs": [],
   "source": [
    "with open(\"my_new_text_file.txt\", \"a\") as my_file:\n",
    "    for i in range(4):\n",
    "        num = input(\"Please enter a number\")\n",
    "        my_file.write(num)\n",
    "        my_file.write(\"\\n\")"
   ]
  },
  {
   "source": [
    "# Task 2"
   ],
   "cell_type": "markdown",
   "metadata": {}
  },
  {
   "cell_type": "code",
   "execution_count": 25,
   "metadata": {},
   "outputs": [],
   "source": [
    "def mark_grade(inp_mark):\n",
    "    if inp_mark >= 70:\n",
    "        return \"First\"\n",
    "    elif inp_mark >= 60:\n",
    "        return \"Upper second 2:1\"\n",
    "    elif inp_mark >= 50:\n",
    "        return \"Lower second 2:2\"\n",
    "    elif inp_mark >= 40:\n",
    "        return \"Third\"\n",
    "    else:\n",
    "        return \"Faild\""
   ]
  },
  {
   "cell_type": "code",
   "execution_count": 33,
   "metadata": {},
   "outputs": [
    {
     "output_type": "stream",
     "name": "stdout",
     "text": [
      "Your grade is: Upper second 2:1\n"
     ]
    }
   ],
   "source": [
    "mark = int(input(\"Please enter your pecentage mark:\"))\n",
    "grade = mark_grade(mark)\n",
    "print(\"Your grade is:\", grade)"
   ]
  },
  {
   "source": [
    "# Extension to Task 2"
   ],
   "cell_type": "markdown",
   "metadata": {}
  },
  {
   "cell_type": "code",
   "execution_count": 58,
   "metadata": {},
   "outputs": [],
   "source": [
    "def comparing_grade_and_target(inp_target, inp_target_list, inp_grade):\n",
    "    \n",
    "    target = inp_target_list[inp_target - 1]   # Target will be found by use of its appendix.\n",
    "    for i in range(len(inp_target_list)):   # The grade appendix will be found in this section for comparing with target appendix.\n",
    "        if inp_grade == inp_target_list[i]:\n",
    "            grade_int = i + 1\n",
    "\n",
    "    if inp_target == grade_int:\n",
    "        print(\"Well done!\\nYour grade is the same as your target grade. Your target grade is\", target, \"and your grade is\", \n",
    "        inp_grade, \"as well.\")\n",
    "    elif inp_target > grade_int:\n",
    "        print(\"Congratulations!\\nYour grade is more than your target grade. Your target grade is\", target, \"and your grade is\", \n",
    "        inp_grade, \".\")\n",
    "    elif inp_target < grade_int:\n",
    "        print(\"Unfortunately your grade is less than your target grade. Your target grade is\", target, \"and your grade is\",\n",
    "        inp_grade, \".\")"
   ]
  },
  {
   "cell_type": "code",
   "execution_count": 59,
   "metadata": {},
   "outputs": [
    {
     "output_type": "stream",
     "name": "stdout",
     "text": [
      "1) First\n",
      "2) Upper second 2:1\n",
      "3) lower second 2:2\n",
      "4) Third\n",
      "5) Faild\n",
      "Unfortunately your grade is less than your target grade. Your target grade is First and your grade is Upper second 2:1 .\n"
     ]
    }
   ],
   "source": [
    "print(\"1) First\\n2) Upper second 2:1\\n3) lower second 2:2\\n4) Third\\n5) Faild\")\n",
    "targets = [\"First\", \"Upper second 2:1\", \"lower second 2:2\", \"Third\", \"Faild\"]\n",
    "target = int(input(\"Please choose one the above grade as your target grade:\"))\n",
    "comparing_grade_and_target(target, targets, grade)\n"
   ]
  },
  {
   "cell_type": "code",
   "execution_count": null,
   "metadata": {},
   "outputs": [],
   "source": []
  }
 ]
}